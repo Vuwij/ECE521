{
 "cells": [
  {
   "cell_type": "code",
   "execution_count": 1,
   "metadata": {
    "collapsed": true
   },
   "outputs": [],
   "source": [
    "import tensorflow as tf\n",
    "import numpy as np\n",
    "import matplotlib.pyplot as plt\n",
    "import matplotlib.image as mpimg\n",
    "%matplotlib inline\n",
    "\n",
    "from sklearn.datasets import load_boston\n",
    "from sklearn.preprocessing import scale"
   ]
  },
  {
   "cell_type": "code",
   "execution_count": 25,
   "metadata": {
    "collapsed": true
   },
   "outputs": [],
   "source": [
    "with np.load(\"notMNIST.npz\") as data :\n",
    "    Data, Target = data [\"images\"], data[\"labels\"]\n",
    "    posClass = 2\n",
    "    negClass = 9\n",
    "    dataIndx = (Target==posClass) + (Target==negClass)\n",
    "    Data = Data[dataIndx]/255.\n",
    "    Target = Target[dataIndx].reshape(-1, 1)\n",
    "    Target[Target==posClass] = 1\n",
    "    Target[Target==negClass] = 0\n",
    "    np.random.seed(521)\n",
    "    randIndx = np.arange(len(Data))\n",
    "    np.random.shuffle(randIndx)\n",
    "    Data, Target = Data[randIndx], Target[randIndx]\n",
    "    trainData, trainTarget = Data[:3500], Target[:3500]\n",
    "    validData, validTarget = Data[3500:3600], Target[3500:3600]\n",
    "    testData, testTarget = Data[3600:], Target[3600:]\n",
    "\n",
    "#flatten the 2D features to 1D\n",
    "trainData=np.reshape(trainData, [3500, 28*28]) \n",
    "validData=np.reshape(validData, [100, 28*28]) \n",
    "testData=np.reshape(testData, [145, 28*28])\n",
    "\n",
    "\n"
   ]
  },
  {
   "cell_type": "code",
   "execution_count": 26,
   "metadata": {
    "collapsed": false
   },
   "outputs": [
    {
     "name": "stdout",
     "output_type": "stream",
     "text": [
      "(3500, 784)\n",
      "(3500, 1)\n"
     ]
    }
   ],
   "source": [
    "print(trainData.shape)\n",
    "print(trainTarget.shape)"
   ]
  },
  {
   "cell_type": "code",
   "execution_count": 19,
   "metadata": {
    "collapsed": false
   },
   "outputs": [],
   "source": [
    "def part2_main(decay_lambda, iterations, mini_batch_size, learning_rate, num_classes):\n",
    "    num_features=trainData.shape[1]\n",
    "    \n",
    "    X = tf.placeholder(dtype=tf.float64,shape=[None, num_features])\n",
    "    Y = tf.placeholder(dtype=tf.int64,shape=[None, 1])\n",
    "    \n",
    "    W = tf.Variable(tf.zeros(dtype=tf.float64, shape=[num_features, num_classes]))\n",
    "    b = tf.Variable(tf.zeros(dtype=tf.float64, shape=[num_classes]))\n",
    "    \n",
    "    #actual labels in one-hot vector form\n",
    "    true_Y = tf.one_hot(Y, depth = num_classes)\n",
    "    \n",
    "    pred_Y = tf.matmul(X,W)+b\n",
    "    \n",
    "    \n",
    "    \n",
    "    Loss_D = tf.reduce_mean(tf.nn.softmax_cross_entropy_with_logits(labels=true_Y,logits=pred_Y))\n",
    "    Loss_W = 0.5*decay_lambda*tf.reduce_sum(tf.square(W))\n",
    "    total_loss = Loss_D + Loss_W\n",
    "    \n",
    "    optimizer = tf.train.GradientDescentOptimizer(learning_rate).minimize(total_loss)\n",
    "    train_set_size = trainData.shape[0]\n",
    "    n_batch = train_set_size // mini_batch_size + (train_set_size % mini_batch_size != 0)\n",
    "    init = tf.global_variables_initializer()\n",
    "    \n",
    "    #define an accuracy op for validation accuracy rate\n",
    "    accuracy = tf.reduce_mean(tf.cast(tf.equal(tf.squeeze(Y), tf.argmax(pred_Y, axis=1)), tf.float64))\n",
    "    \n",
    "    with tf.Session() as sess:\n",
    "        points=[[],[]]\n",
    "        sess.run(init)\n",
    "        \n",
    "        for step in range(iterations):\n",
    "            i_batch = (step%n_batch)*mini_batch_size\n",
    "            xs = trainData[i_batch:i_batch+mini_batch_size]\n",
    "            ys = trainTarget[i_batch:i_batch+mini_batch_size]\n",
    "            cost = sess.run(total_loss, feed_dict={X:xs, Y:ys})\n",
    "            sess.run(optimizer, feed_dict={X:xs, Y:ys})\n",
    "            \n",
    "            if(step%n_batch==0):\n",
    "                epoch_number = step/n_batch\n",
    "                points[0].append(epoch_number)\n",
    "                points[1].append(cost)\n",
    "    \n",
    "        # Accuracy Rate for Validation Set\n",
    "        print(\"When Learning Rate is\",learning_rate, \"Accuracy Rate for Validation Set =\",sess.run(accuracy, feed_dict={X:validData, Y:validTarget}))\n",
    "            \n",
    "    \n",
    "    \n",
    "    return points"
   ]
  },
  {
   "cell_type": "markdown",
   "metadata": {},
   "source": [
    "2.1 Binary cross-entropy loss [9 points]\n",
    "    1. Learning [4 pts]: tuning learning rate = 0.005, 0.001, 0.0001"
   ]
  },
  {
   "cell_type": "code",
   "execution_count": 20,
   "metadata": {
    "collapsed": false
   },
   "outputs": [
    {
     "name": "stdout",
     "output_type": "stream",
     "text": [
      "When Learning Rate is 0.005 Accuracy Rate for Validation Set = 0.98\n",
      "When Learning Rate is 0.001 Accuracy Rate for Validation Set = 0.98\n",
      "When Learning Rate is 0.0001 Accuracy Rate for Validation Set = 0.98\n"
     ]
    },
    {
     "data": {
      "image/png": "[encoded data removed]",
      "text/plain": [
       "<matplotlib.figure.Figure at 0x120a136d8>"
      ]
     },
     "metadata": {},
     "output_type": "display_data"
    }
   ],
   "source": [
    "points_1 = part2_main(decay_lambda=0.01, iterations=5000, mini_batch_size=500, learning_rate=0.005, num_classes=2)\n",
    "plt.plot(points_1[0], points_1[1], 'b',label='learning_rate=0.005')\n",
    "#plt.legend()\n",
    "#plt.show()\n",
    "\n",
    "points_2 = part2_main(decay_lambda=0.01, iterations=5000, mini_batch_size=500, learning_rate=0.001, num_classes=2)\n",
    "plt.plot(points_2[0], points_2[1], 'r--',label='learning_rate=0.001')\n",
    "#plt.legend()\n",
    "#plt.show()\n",
    "\n",
    "points_3 = part2_main(decay_lambda=0.01, iterations=5000, mini_batch_size=500, learning_rate=0.0001, num_classes=2)\n",
    "plt.plot(points_3[0], points_3[1], 'g', label='learning_rate=0.0001')\n",
    "\n",
    "plt.legend()\n",
    "plt.show()\n"
   ]
  },
  {
   "cell_type": "code",
   "execution_count": null,
   "metadata": {
    "collapsed": true
   },
   "outputs": [],
   "source": []
  }
 ],
 "metadata": {
  "anaconda-cloud": {},
  "kernelspec": {
   "display_name": "Python [conda root]",
   "language": "python",
   "name": "conda-root-py"
  },
  "language_info": {
   "codemirror_mode": {
    "name": "ipython",
    "version": 3
   },
   "file_extension": ".py",
   "mimetype": "text/x-python",
   "name": "python",
   "nbconvert_exporter": "python",
   "pygments_lexer": "ipython3",
   "version": "3.5.2"
  }
 },
 "nbformat": 4,
 "nbformat_minor": 2
}
