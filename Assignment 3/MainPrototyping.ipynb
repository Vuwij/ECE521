{
 "cells": [
  {
   "cell_type": "code",
   "execution_count": 24,
   "metadata": {},
   "outputs": [],
   "source": [
    "import tensorflow as tf\n",
    "import numpy as np\n",
    "\n",
    "def loadData(fileName):\n",
    "    with np.load(fileName) as data:\n",
    "        Data, Target = data[\"images\"], data[\"labels\"]\n",
    "        np.random.seed(521)\n",
    "        randIdx = np.arange(len(Data))\n",
    "        np.random.shuffle(randIdx)\n",
    "        Data = Data[randIdx]/255.0\n",
    "        Target = Target[randIdx]\n",
    "        trainData, trainTarget = Data[:15000], Target[:15000]\n",
    "        validData, validTarget = Data[15000:16000], Target[15000:16000]\n",
    "        testData, testTarget = Data[16000:], Target[16000:]\n",
    "    return trainData, trainTarget, validData, validTarget, testData, testTarget"
   ]
  },
  {
   "cell_type": "markdown",
   "metadata": {},
   "source": [
    "1.1 Feedforward fully connected neural networks\n",
    "===\n",
    "Implement a simple neural network with one hidden layer and 1000 hidden units. Train your neural network on the entire notMNIST training set of ten classes. Because the neural network loss functions are non-convex, a proper weights initialization scheme is crucial to prevent vanishing gradient during back-propagation as a result of learning stuck at a plateau at the beginning of the training. You will use the Xavier initialization to initialize the weight matrices for all the neural networks in this assignment. That is, each weight matrix is initialized from zero-mean independent Gaussians whose variance is 3/(#input_units + #output_units). Unlike the weight matrices, the bias units will be initalized to zero."
   ]
  },
  {
   "cell_type": "markdown",
   "metadata": {},
   "source": [
    "1 layer-wise building block\n",
    "===\n",
    "Write a vectorized Tensorflow Python function that takes the hidden activations from the preivous layer then return the weighted sum of the inputs (i.e. the z) for the current hidden layer. You will also initailize the weight matrix and the biases in the same function. You should use Xavier initialization for the weight matrix. Your function should be able to compute the weighted sum for all the data points in your mini-batch at once using matrix multiplication. It should not contain loops over the training exmaples in the mini-batch. The function should accept two arguments, the input tensor and the number of the hidden units. Include the snippets of the Python code.\n",
    "\n"
   ]
  },
  {
   "cell_type": "code",
   "execution_count": 61,
   "metadata": {},
   "outputs": [],
   "source": [
    "def layerWiseBuildingBlock(X, numHiddenUnits):\n",
    "    \"\"\"Takes the hidden activations from the previous layer then return the weighted sum\n",
    "    of the inputs for the current hidden layer\"\"\"\n",
    "    # INPUT: input tensor and the number of the hidden units\n",
    "    # Output: the weighted sum of the inputs for the current hidden layer\n",
    "    prevDim = tf.to_int32(X.get_shape()[1])\n",
    "    std_dev = tf.sqrt(3.0 / tf.to_float(prevDim + numHiddenUnits))\n",
    "    \n",
    "    # Variable Creation\n",
    "    S = tf.placeholder(tf.float32, [None, numHiddenUnits])\n",
    "    W = tf.Variable(tf.truncated_normal(shape=[prevDim,numHiddenUnits], stddev=std_dev))\n",
    "    b = tf.Variable(0.0, [1, numHiddenUnits])\n",
    "    \n",
    "    # Graph definition\n",
    "    S = tf.matmul(X, W) + b  # dim is [None, numHiddenUnits]\n",
    "    \n",
    "    return S, W"
   ]
  },
  {
   "cell_type": "code",
   "execution_count": 62,
   "metadata": {},
   "outputs": [],
   "source": [
    "def TEST_layerWiseBuildingBlock():\n",
    "    c = tf.constant([[1,2],[3,4]], dtype=tf.float32)\n",
    "    print(sess.run(c))\n",
    "\n",
    "    prevDim = tf.shape(c)[1]\n",
    "    print(sess.run(prevDim))\n",
    "\n",
    "    layerWiseBuildingBlock(c, 1000)\n",
    "\n",
    "    sess = tf.Session()\n",
    "    init = tf.global_variables_initializer()\n",
    "    sess.run(init)\n"
   ]
  },
  {
   "cell_type": "markdown",
   "metadata": {},
   "source": [
    "2 Learning\n",
    "===\n",
    "Use your function from the previous question to build your neural network model with ReLU activation functions in TensorFlow and tf.nn.relu can be useful. For training your network, you are supposed to find a reasonable value for your learning rate. You should train your neural network for different values of learning rate and choose the one that gives you the fastest convergence in terms of the training loss function. (You might want to \"babysit\" your experiments and terminate a particular run prematurely as soon as you find out that the learning rate value is not very good.) Trying 3 different values should be enough. You may also find it useful to apply a small amount of weight decay to prevent overfitting. (e.g. lambda=3e-4). On the training set, validation set and test set, record your classification erros and cross-entropy losses after each epoch. Plot the training, validation, and test classification error vs. the number of epochs. Make a second plot for the cross-entropy loss vs. the number of epochs. Comment on  your observations."
   ]
  },
  {
   "cell_type": "code",
   "execution_count": 63,
   "metadata": {},
   "outputs": [],
   "source": [
    "def buildGraph(numLayers, numHiddenUnits, learningRate):\n",
    "    \"\"\"Build neural network model with ReLU activation functions\"\"\"\n",
    "    \n",
    "    # Variable creation\n",
    "    X = tf.placeholder(tf.float32, [None, 28, 28], name='input_x')\n",
    "    X_flatten = tf.reshape(X, [-1, 28*28])\n",
    "    y_target = tf.placeholder(tf.float32, name='target_y')\n",
    "    y_onehot = tf.one_hot(tf.to_int32(y_target), 10, 1.0, 0.0, axis=-1)\n",
    "    Lambda = tf.placeholder(\"float32\", name='Lambda')\n",
    "    \n",
    "    # Graph definition\n",
    "    # Input <=> Hidden\n",
    "    S1, W1 = layerWiseBuildingBlock(X_flatten, numHiddenUnits)\n",
    "    thetaS1 = tf.nn.relu(S1)\n",
    "    \n",
    "    # Hidden <=> Output\n",
    "    S2, W2 = layerWiseBuildingBlock(thetaS1, 10)\n",
    "    #thetaS2 = tf.nn.relu(S2)\n",
    "    \n",
    "    # Final output layer\n",
    "    y_logit = tf.nn.relu(S2)\n",
    "    y_predicted = tf.nn.softmax(y_logit)\n",
    "    \n",
    "    # Error and accuracy definition\n",
    "    crossEntropyError = tf.reduce_mean(tf.nn.softmax_cross_entropy_with_logits(\n",
    "                                      labels=y_onehot, logits=y_logit),\n",
    "                                      name='mean_cross_entropy')\n",
    "    acc = tf.reduce_mean(tf.to_float(tf.equal(tf.argmax(y_predicted, -1),\n",
    "                                             tf.to_int64(y_target))))\n",
    "    weightLoss = (tf.reduce_sum(W1*W1) + tf.reduce_sum(W2*W2)) * Lambda * 0.5\n",
    "    loss = crossEntropyError + weightLoss\n",
    "    \n",
    "    # Training mechanism\n",
    "    optimizer = tf.train.AdamOptimizer(learning_rate=learningRate)\n",
    "    train = optimizer.minimize(loss=loss)\n",
    "    \n",
    "    return X, y_target, y_predicted, crossEntropyError, train, Lambda, acc"
   ]
  },
  {
   "cell_type": "code",
   "execution_count": 64,
   "metadata": {},
   "outputs": [],
   "source": [
    "# SGD Implementation\n",
    "def runFullIteration(B, max_iter, wd_lambda, learningRate):\n",
    "    \"\"\"Run full iteration\"\"\"\n",
    "    \n",
    "    fileName = \"notMNIST.npz\"\n",
    "    trainData, trainTarget, validData, validTarget, testData, testTarget = loadData(fileName)\n",
    "    \n",
    "    numBatches = np.floor(len(trainData)/B)\n",
    "\n",
    "    trainLoss_list = []\n",
    "    validLoss_list = []\n",
    "    testLoss_list = []\n",
    "\n",
    "    trainAcc_list = []\n",
    "    validAcc_list = []\n",
    "    testAcc_list = []\n",
    "\n",
    "    numLayers=1\n",
    "    numHiddenUnits = 1000\n",
    "\n",
    "    X, y_target, y_predicted, crossEntropyError, train, Lambda, acc_h = buildGraph(numLayers, numHiddenUnits, learningRate)\n",
    "\n",
    "    with tf.Session() as sess:\n",
    "        init = tf.global_variables_initializer()\n",
    "        sess.run(init)\n",
    "        \n",
    "        for step in range(0, max_iter+1):\n",
    "            if step % numBatches == 0:\n",
    "\n",
    "                # Sample minibatch without replacement\n",
    "                randIdx = np.arange(len(trainData))\n",
    "                np.random.shuffle(randIdx)\n",
    "                trainData = trainData[randIdx]\n",
    "                trainTarget = trainTarget[randIdx]\n",
    "                i = 0  # cyclic index for mini-batch\n",
    "\n",
    "                # storing MSE and Acc for the three datasets every epoch\n",
    "                err = crossEntropyError.eval(feed_dict={X: trainData, y_target: trainTarget})\n",
    "                acc = acc_h.eval(feed_dict={X: trainData, y_target: trainTarget})\n",
    "                trainLoss_list.append(err)\n",
    "                trainAcc_list.append(acc)\n",
    "\n",
    "                err = crossEntropyError.eval(feed_dict={X: validData, y_target: validTarget})\n",
    "                acc = acc_h.eval(feed_dict={X: validData, y_target: validTarget})\n",
    "                validLoss_list.append(err)\n",
    "                validAcc_list.append(acc)\n",
    "\n",
    "                err = crossEntropyError.eval(feed_dict={X: testData, y_target: testTarget})\n",
    "                acc = acc_h.eval(feed_dict={X: testData, y_target: testTarget})\n",
    "                testLoss_list.append(err)\n",
    "                testAcc_list.append(acc)\n",
    "\n",
    "            # Slicing a mini-batch from the whole training dataset\n",
    "            feeddict = {X: trainData[i*B:(i+1)*B], y_target: trainTarget[i*B:(i+1)*B],\n",
    "                       Lambda: wd_lambda}\n",
    "\n",
    "            # Update model parameters\n",
    "            _, err, yhat = sess.run([train, crossEntropyError, y_predicted], feed_dict=feeddict)\n",
    "\n",
    "            # storing weights every iteration\n",
    "            # wList.append(currentW)\n",
    "            i += 1\n",
    "\n",
    "            # displaying training MSE error every 100 iterations\n",
    "            if not (step % 100):\n",
    "                print(\"Iter: %3d, CrossEntropyError: %4.2f\" % (step, err))\n",
    "    data = {}\n",
    "    data['trainLoss'] = trainLoss_list\n",
    "    data['validLoss'] = validLoss_list\n",
    "    data['testLoss'] = testLoss_list\n",
    "    \n",
    "    data['trainAcc'] = trainAcc_list\n",
    "    data['validAcc'] = validAcc_list\n",
    "    data['testAcc'] = testAcc_list\n",
    "    \n",
    "    return data"
   ]
  },
  {
   "cell_type": "code",
   "execution_count": 65,
   "metadata": {
    "scrolled": false
   },
   "outputs": [
    {
     "name": "stdout",
     "output_type": "stream",
     "text": [
      "Iter:   0, CrossEntropyError: 2.34\n",
      "Iter: 100, CrossEntropyError: 2.08\n",
      "Iter: 200, CrossEntropyError: 2.10\n"
     ]
    }
   ],
   "source": [
    "# Run over 100~200 epoches\n",
    "data = runFullIteration(B=500, max_iter=200, wd_lambda=0.0, learningRate=0.005)\n",
    "# np.save(\"temp\", data)"
   ]
  },
  {
   "cell_type": "markdown",
   "metadata": {},
   "source": [
    "3 Early stopping\n",
    "===\n",
    "Early stopping is the simplest procedure to avoid overfitting. Determine and highlight the early stopping point on the classification error plot from question 1.1.2, and report the training, validation and test classification error at the early stopping point. Are the early stopping points the same on the two plots? Why or why not? Which plot should be used for early stopping, and why?"
   ]
  }
 ],
 "metadata": {
  "kernelspec": {
   "display_name": "Python 3",
   "language": "python",
   "name": "python3"
  },
  "language_info": {
   "codemirror_mode": {
    "name": "ipython",
    "version": 3
   },
   "file_extension": ".py",
   "mimetype": "text/x-python",
   "name": "python",
   "nbconvert_exporter": "python",
   "pygments_lexer": "ipython3",
   "version": "3.6.4"
  }
 },
 "nbformat": 4,
 "nbformat_minor": 2
}
