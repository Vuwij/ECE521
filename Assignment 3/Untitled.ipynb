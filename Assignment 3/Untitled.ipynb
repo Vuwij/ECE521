{
 "cells": [
  {
   "cell_type": "markdown",
   "metadata": {},
   "source": [
    "1.2 Effect of hyperparameters\n",
    "==="
   ]
  },
  {
   "cell_type": "markdown",
   "metadata": {},
   "source": [
    "1 Number of hidden units\n",
    "===\n",
    "Instead of using 1000 hidden units, train different neural networks with [100,500,1000] hidden units. Find the best validation error for each one. Choose the model which gives you the best result, and then use it for classifying the test set. Report the test classification error. In one sentence, summarize your observation about the effect of the number of hidden units on the final results."
   ]
  },
  {
   "cell_type": "markdown",
   "metadata": {},
   "source": [
    "2 Number of layers\n",
    "===\n",
    "For this task, train a neural network with two hidden layers of 500 hidden units each (1000 total). Plot the training and validation errors (or training and validation classification erros) vs. the number of epochs. What is the final validation error ( and the vliadation classification error) when training is complete? Using the test set, compare this architecture with the one-layer case"
   ]
  }
 ],
 "metadata": {
  "kernelspec": {
   "display_name": "Python 3",
   "language": "python",
   "name": "python3"
  },
  "language_info": {
   "codemirror_mode": {
    "name": "ipython",
    "version": 3
   },
   "file_extension": ".py",
   "mimetype": "text/x-python",
   "name": "python",
   "nbconvert_exporter": "python",
   "pygments_lexer": "ipython3",
   "version": "3.6.4"
  }
 },
 "nbformat": 4,
 "nbformat_minor": 2
}
