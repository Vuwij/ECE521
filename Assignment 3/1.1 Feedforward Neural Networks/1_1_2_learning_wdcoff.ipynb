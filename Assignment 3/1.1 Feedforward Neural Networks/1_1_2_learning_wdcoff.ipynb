{
 "cells": [
  {
   "cell_type": "code",
   "execution_count": 34,
   "metadata": {
    "collapsed": true
   },
   "outputs": [],
   "source": [
    "import os\n",
    "import numpy as np\n",
    "import matplotlib.pyplot as plt\n",
    "\n",
    "files = os.listdir('1.1 Feedforward Neural Networks')\n",
    "found_list = []\n",
    "for file in files:\n",
    "    if \"temp_\" in file:\n",
    "        found_list.append(file)\n",
    "\n",
    "dataList = []\n",
    "for fileName in found_list:\n",
    "    dataList.append(np.load('1.1 Feedforward Neural Networks/' + fileName, encoding = 'latin1'))\n",
    "\n",
    "trainLossList = []\n",
    "for data in dataList:\n",
    "    trainLossList.append(data.item().get('validAcc'))"
   ]
  },
  {
   "cell_type": "code",
   "execution_count": 37,
   "metadata": {},
   "outputs": [],
   "source": [
    "xRange = np.arange(len(trainLossList[0]))\n",
    "\n",
    "fig = plt.figure()\n",
    "\n",
    "for i in range(len(trainLossList)):\n",
    "    plt.plot(xRange, trainLossList[i], '-', label='WD Coef %s' % (found_list[i]))\n",
    "plt.ylim((0.5, 1))\n",
    "plt.xlim((-1, 300))\n",
    "plt.xlabel('Number of Epochs')\n",
    "plt.ylabel('validAcc')\n",
    "plt.legend()\n",
    "plt.show()"
   ]
  }
 ],
 "metadata": {
  "kernelspec": {
   "display_name": "Python 3",
   "language": "python",
   "name": "python3"
  },
  "language_info": {
   "codemirror_mode": {
    "name": "ipython",
    "version": 3
   },
   "file_extension": ".py",
   "mimetype": "text/x-python",
   "name": "python",
   "nbconvert_exporter": "python",
   "pygments_lexer": "ipython3",
   "version": "3.5.4"
  }
 },
 "nbformat": 4,
 "nbformat_minor": 2
}
