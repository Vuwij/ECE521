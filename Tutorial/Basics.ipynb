{
 "cells": [
  {
   "cell_type": "code",
   "execution_count": 4,
   "metadata": {},
   "outputs": [
    {
     "name": "stdout",
     "output_type": "stream",
     "text": [
      "[array([1, 2, 3, 4], dtype=int32), array([1, 2, 3, 4], dtype=int32), array([ 1,  4,  9, 16], dtype=int32)]\n"
     ]
    }
   ],
   "source": [
    "import tensorflow as tf\n",
    "\n",
    "\n",
    "a = tf.constant([1,2,3,4], name='a')\n",
    "b = tf.constant([1,2,3,4], name='b')\n",
    "c = a*b\n",
    "\n",
    "sess = tf.InteractiveSession()\n",
    "init = tf.global_variables_initializer()\n",
    "sess.run(init)\n",
    "\n",
    "print(sess.run([a,b,c]))\n"
   ]
  },
  {
   "cell_type": "code",
   "execution_count": 15,
   "metadata": {},
   "outputs": [
    {
     "name": "stdout",
     "output_type": "stream",
     "text": [
      "[[ 2.  8.]\n",
      " [72. 98.]]\n"
     ]
    }
   ],
   "source": [
    "import numpy as np\n",
    "import tensorflow as tf\n",
    "\n",
    "\n",
    "x = tf.placeholder(tf.float32, name='x')\n",
    "c = tf.constant(2.0, name='c')\n",
    "cx_squared = c*x*x\n",
    "\n",
    "sess = tf.InteractiveSession()\n",
    "init = tf.global_variables_initializer()\n",
    "sess.run(init)\n",
    "\n",
    "#print(sess.run(cx_squared, feed_dict={x:np.array([1,2,3])}))\n",
    "\n",
    "print(sess.run(cx_squared, feed_dict={x:np.array([[1,2],[6,7]])}))\n"
   ]
  },
  {
   "cell_type": "code",
   "execution_count": 2,
   "metadata": {},
   "outputs": [
    {
     "name": "stdout",
     "output_type": "stream",
     "text": [
      "Initial weights: [[-0.  ]\n",
      " [-0.18]\n",
      " [-0.18]\n",
      " [-0.3 ]\n",
      " [ 0.21]], initial bias: 0.00\n",
      "Iter:   0, MSE-train: 1884.55, weights: [[0.37 0.88 1.97 2.76 3.36]], bias: 0.05\n",
      "Iter:   1, MSE-train: 216.53, weights: [[0.68 1.43 2.65 3.64 4.43]], bias: 0.07\n",
      "Iter:   2, MSE-train: 29.68, weights: [[0.85 1.71 2.87 3.9  4.79]], bias: 0.07\n",
      "Iter:   3, MSE-train: 5.42, weights: [[0.93 1.84 2.95 3.98 4.91]], bias: 0.05\n",
      "Iter:   4, MSE-train: 1.77, weights: [[0.97 1.9  2.98 4.   4.95]], bias: 0.04\n",
      "Iter:   5, MSE-train: 1.13, weights: [[0.98 1.93 2.99 4.01 4.97]], bias: 0.02\n",
      "Iter:   6, MSE-train: 0.99, weights: [[0.99 1.95 3.   4.01 4.98]], bias: 0.00\n",
      "Iter:   7, MSE-train: 0.93, weights: [[0.99 1.95 3.   4.01 4.98]], bias: -0.02\n",
      "Iter:   8, MSE-train: 0.90, weights: [[1.   1.96 3.   4.01 4.98]], bias: -0.04\n",
      "Iter:   9, MSE-train: 0.86, weights: [[1.   1.96 3.   4.01 4.98]], bias: -0.05\n",
      "Iter:  50, MSE-train: 0.19, weights: [[1.   1.98 3.   4.   4.99]], bias: -0.56\n",
      "Iter: 100, MSE-train: 0.03, weights: [[1.   1.99 3.   4.   5.  ]], bias: -0.83\n",
      "Iter: 150, MSE-train: 0.00, weights: [[1. 2. 3. 4. 5.]], bias: -0.93\n",
      "Iter: 200, MSE-train: 0.00, weights: [[1. 2. 3. 4. 5.]], bias: -0.97\n",
      "Final testing MSE: 0.00\n"
     ]
    }
   ],
   "source": [
    "import numpy as np\n",
    "import tensorflow as tf\n",
    "\n",
    "\n",
    "\n",
    "def readMat(path):\n",
    "    return np.load(path)\n",
    "\n",
    "def writeMat(path, m):\n",
    "    np.save(path, m)\n",
    "\n",
    "\n",
    "def loadData(dataPath, targetPath):\n",
    "    # Loading my data\n",
    "    inputData = readMat(dataPath)\n",
    "    target = readMat(targetPath)\n",
    "\n",
    "    trainData = inputData[:,0:70].T\n",
    "    testData = inputData[:,70:].T\n",
    "\n",
    "    trainTarget = np.expand_dims(target[0:70], 1)\n",
    "    testTarget = np.expand_dims(target[70:],1)\n",
    "    return trainData, trainTarget, testData, testTarget\n",
    "\n",
    "\n",
    "def buildGraph():\n",
    "    # Variable creation\n",
    "    W = tf.Variable(tf.truncated_normal(shape=[5,1], stddev=0.5), name='weights')\n",
    "    b = tf.Variable(0.0, name='biases')\n",
    "    X = tf.placeholder(tf.float32, [None, 5], name='input_x')\n",
    "    y_target = tf.placeholder(tf.float32, [None,1], name='target_y')\n",
    "\n",
    "    # Graph definition\n",
    "    y_predicted = tf.matmul(X,W) + b\n",
    "\n",
    "    # Error definition\n",
    "    meanSquaredError = tf.reduce_mean(tf.reduce_mean(tf.square(y_predicted - y_target), \n",
    "                                                reduction_indices=1, \n",
    "                                                name='squared_error'), \n",
    "                                  name='mean_squared_error')\n",
    "\n",
    "    # Training mechanism\n",
    "    optimizer = tf.train.GradientDescentOptimizer(learning_rate = 0.01)\n",
    "    train = optimizer.minimize(loss=meanSquaredError)\n",
    "    return W, b, X, y_target, y_predicted, meanSquaredError, train\n",
    "\n",
    "    \n",
    "def runMult(dataPath, targetPath):\n",
    "\n",
    "    # Build computation graph\n",
    "    W, b, X, y_target, y_predicted, meanSquaredError, train = buildGraph()\n",
    "\n",
    "    # Loading my data\n",
    "    trainData, trainTarget, testData, testTarget = loadData(dataPath, targetPath)\n",
    "\n",
    "    # Initialize session\n",
    "    init = tf.global_variables_initializer()\n",
    "\n",
    "    sess = tf.InteractiveSession()\n",
    "    sess.run(init)\n",
    "\n",
    "    initialW = sess.run(W)  \n",
    "    initialb = sess.run(b)\n",
    "\n",
    "    print(\"Initial weights: %s, initial bias: %.2f\"%(initialW, initialb))\n",
    "    # Training model\n",
    "    wList = []\n",
    "    for step in range(0,201):\n",
    "        _, err, currentW, currentb, yhat = sess.run([train, meanSquaredError, W, b, y_predicted], feed_dict={X: trainData, y_target: trainTarget})\n",
    "        wList.append(currentW)\n",
    "        if not (step % 50) or step < 10:        \n",
    "            print(\"Iter: %3d, MSE-train: %4.2f, weights: %s, bias: %.2f\"%(step, err, currentW.T, currentb))\n",
    "\n",
    "    # Testing model\n",
    "    errTest = sess.run(meanSquaredError, feed_dict={X: testData, y_target: testTarget})\n",
    "    print(\"Final testing MSE: %.2f\"%(errTest))      \n",
    "\n",
    "\n",
    "if __name__ == '__main__':\n",
    "    np.set_printoptions(precision=2)\n",
    "    runMult('./x.npy', './t2.npy')"
   ]
  }
 ],
 "metadata": {
  "kernelspec": {
   "display_name": "Python 3",
   "language": "python",
   "name": "python3"
  },
  "language_info": {
   "codemirror_mode": {
    "name": "ipython",
    "version": 3
   },
   "file_extension": ".py",
   "mimetype": "text/x-python",
   "name": "python",
   "nbconvert_exporter": "python",
   "pygments_lexer": "ipython3",
   "version": "3.5.4"
  }
 },
 "nbformat": 4,
 "nbformat_minor": 2
}
