{
 "cells": [
  {
   "cell_type": "code",
   "execution_count": 304,
   "metadata": {},
   "outputs": [
    {
     "name": "stdout",
     "output_type": "stream",
     "text": [
      "[[ 0.8 -0.4]\n",
      " [ 0.6 -1. ]\n",
      " [-0.8  0.2]\n",
      " [ 0.  -0.2]\n",
      " [-0.4  0.2]\n",
      " [-0.2  0.4]\n",
      " [ 0.   0.2]\n",
      " [ 0.2  1. ]\n",
      " [ 0.6 -0.2]\n",
      " [ 0.8  0.6]\n",
      " [-0.8  0.4]\n",
      " [ 0.6  0.4]\n",
      " [ 0.4  0. ]\n",
      " [-0.8  1. ]\n",
      " [-0.2 -0.6]\n",
      " [ 0.4  1. ]\n",
      " [-0.4  0.4]\n",
      " [ 0.2  0.4]\n",
      " [ 0.8 -0.2]\n",
      " [-0.4 -0.2]\n",
      " [ 0.4  0.4]\n",
      " [-0.2  1. ]\n",
      " [-0.  -0.2]\n",
      " [ 0.4 -0.8]\n",
      " [-0.2  0.6]\n",
      " [ 0.6 -0.4]\n",
      " [-0.6 -0. ]\n",
      " [-0.4  0.4]\n",
      " [-0.6 -0.4]\n",
      " [ 0.6  0.2]\n",
      " [ 0.8  1. ]\n",
      " [ 0.6 -0.6]\n",
      " [ 0.2 -0. ]\n",
      " [-0.2  0.4]\n",
      " [ 0.6  0.4]\n",
      " [-0.8  0.4]\n",
      " [-0.8 -0.6]\n",
      " [ 0.8 -0.2]\n",
      " [-0.8  0.4]\n",
      " [-0.6  0.2]\n",
      " [-0.4 -1. ]\n",
      " [ 1.  -0.8]\n",
      " [ 0.  -0.4]\n",
      " [ 0.4  0.6]\n",
      " [ 0.2  0.2]\n",
      " [-0.8  0.4]\n",
      " [-0.6 -0. ]\n",
      " [-1.  -0.4]\n",
      " [ 0.8  0.2]\n",
      " [ 0.  -0.2]]\n",
      "[-1.  1.  1.  1.  1. -1. -1. -1. -1. -1.  1. -1. -1. -1.  1. -1. -1. -1.\n",
      " -1.  1. -1. -1.  1.  1. -1. -1.  1. -1.  1. -1. -1.  1. -1. -1. -1.  1.\n",
      "  1. -1.  1.  1.  1.  1.  1. -1. -1.  1.  1.  1. -1.  1.]\n"
     ]
    },
    {
     "data": {
      "image/png": "[encoded data removed]",
      "text/plain": [
       "<matplotlib.figure.Figure at 0x11022bcc0>"
      ]
     },
     "metadata": {},
     "output_type": "display_data"
    }
   ],
   "source": [
    "import numpy as np\n",
    "import matplotlib.pyplot as plt\n",
    "\n",
    "# Generate data\n",
    "count = 50\n",
    "np.random.seed(6)\n",
    "Data = (np.random.rand(count,2) - 0.5)*2\n",
    "Data = np.around(Data * 5) / 5\n",
    "print(Data)\n",
    "\n",
    "# Unknown target function\n",
    "l = (np.random.rand(2,2) - 0.5)*2\n",
    "a = (l[1,1] - l[1,0]) / (l[0,1] - l[0,0])\n",
    "b = l[1,0] - slope * l[0,0]\n",
    "x = np.linspace(-1,1)\n",
    "y = a * x + b\n",
    "\n",
    "# Perpendicular line\n",
    "xp = b / (-1/a - a)\n",
    "yp = xp * -1/a\n",
    "g = [xp, yp]\n",
    "\n",
    "\n",
    "# Classifying the target function\n",
    "\n",
    "Target = np.zeros(count)\n",
    "for i in range(0,count):\n",
    "    if (np.dot(g, Data[i,:]) > 0):\n",
    "        Target[i] = 1\n",
    "    else:\n",
    "        Target[i] = -1\n",
    "\n",
    "print(Target)\n",
    "        \n",
    "line = plt.figure();\n",
    "plt.plot(x,y)\n",
    "\n",
    "for i in range(0,count):\n",
    "    if(Target[i] == 1):\n",
    "        plt.plot(Data[i,0],Data[i,1], 'x')\n",
    "    else:\n",
    "        plt.plot(Data[i,0],Data[i,1], 'o')\n",
    "\n",
    "plt.grid(1);\n",
    "plt.xlabel('X');\n",
    "plt.ylabel('Y');\n",
    "plt.show()"
   ]
  },
  {
   "cell_type": "code",
   "execution_count": 305,
   "metadata": {},
   "outputs": [],
   "source": [
    "# Ein function\n",
    "\n",
    "def Ein(w, x, y):\n",
    "    E = 0\n",
    "    for i in range(0, count ):\n",
    "        d = np.dot(w, x[i])\n",
    "        if(d == 0):\n",
    "            E = E + 1\n",
    "        \n",
    "        if(d > 0 and y[i] == -1):\n",
    "            E = E + 1\n",
    "            \n",
    "        if(d < 0 and y[i] == 1):\n",
    "            E = E + 1\n",
    "    return E\n",
    "\n",
    "def VectorToAB(w):\n",
    "    a = -w[1] / w[2]\n",
    "    b = w[0] / w[2]\n",
    "    return a, b"
   ]
  },
  {
   "cell_type": "code",
   "execution_count": 307,
   "metadata": {},
   "outputs": [
    {
     "data": {
      "image/png": "[encoded data removed]",
      "text/plain": [
       "<matplotlib.figure.Figure at 0x110ec67f0>"
      ]
     },
     "metadata": {},
     "output_type": "display_data"
    }
   ],
   "source": [
    "w = [0,0,0]\n",
    "# Data = [[1,0],[-1,0],[1,1]]\n",
    "# Target = [1,-1,1]\n",
    "z = np.ones((count,1))\n",
    "Data3 = np.concatenate((z, Data), axis=1)\n",
    "# print(Data3)\n",
    "# PLA\n",
    "for i in range(0,10000):\n",
    "    n = i % count;\n",
    "    \n",
    "    if(Ein(w, Data3, Target) == 0):\n",
    "        break\n",
    "    \n",
    "    d = np.dot(w, Data3[n])\n",
    "    \n",
    "    if(d == 0 or (d > 0 and Target[n] < 0) or (d < 0 and Target[n] > 0) ):\n",
    "        w = w + Target[n] * Data3[n]\n",
    "        \n",
    "    #print(w)\n",
    "        \n",
    "# Draw the line again\n",
    "\n",
    "a, b = VectorToAB(w)\n",
    "x = np.linspace(-1,1)\n",
    "y = a * x + b\n",
    "        \n",
    "# Plot the diagram\n",
    "line = plt.figure();\n",
    "plt.plot(w[0],w[1], '+')\n",
    "plt.plot(x,y)\n",
    "    \n",
    "for i in range(0,count):\n",
    "    if(Target[i] == 1):\n",
    "        plt.plot(Data[i,0],Data[i,1], 'x')\n",
    "    else:\n",
    "        plt.plot(Data[i,0],Data[i,1], 'o')\n",
    "\n",
    "plt.grid(1);\n",
    "plt.xlabel('X');\n",
    "plt.ylabel('Y');\n",
    "plt.xlim([-1,1]);\n",
    "plt.ylim([-1,1]);\n",
    "plt.show()"
   ]
  },
  {
   "cell_type": "code",
   "execution_count": null,
   "metadata": {
    "collapsed": true
   },
   "outputs": [],
   "source": []
  }
 ],
 "metadata": {
  "kernelspec": {
   "display_name": "Python 3",
   "language": "python",
   "name": "python3"
  },
  "language_info": {
   "codemirror_mode": {
    "name": "ipython",
    "version": 3
   },
   "file_extension": ".py",
   "mimetype": "text/x-python",
   "name": "python",
   "nbconvert_exporter": "python",
   "pygments_lexer": "ipython3",
   "version": "3.5.4"
  }
 },
 "nbformat": 4,
 "nbformat_minor": 2
}
