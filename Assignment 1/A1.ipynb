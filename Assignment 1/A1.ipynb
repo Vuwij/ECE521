{
 "cells": [
  {
   "cell_type": "markdown",
   "metadata": {
    "collapsed": true
   },
   "source": [
    "1. Euclidian distance function [4 points]\n",
    "============\n",
    "The squared Euclidean distance between two D-dimensional vectors x and z is given by\n",
    "$\\newcommand{\\norm}[1]{\\left\\lVert#1\\right\\rVert}$\n",
    "\n",
    "$\\norm{\\mathbf{x} - \\mathbf{z}}_{2}^{2} = (\\mathbf{x} - \\mathbf{z})^\\top(\\mathbf{x} - \\mathbf{z}) = \\sigma_{d=1}^{D}(X_d - Z_d)^2$"
   ]
  },
  {
   "cell_type": "code",
   "execution_count": 190,
   "metadata": {},
   "outputs": [
    {
     "name": "stdout",
     "output_type": "stream",
     "text": [
      "D_euc = \n",
      "[[0 0]\n",
      " [0 1]\n",
      " [0 2]]\n",
      "[[1 0]\n",
      " [1 1]\n",
      " [1 2]]\n",
      "[[1 2 5]\n",
      " [2 1 2]\n",
      " [5 2 1]]\n"
     ]
    }
   ],
   "source": [
    "import tensorflow as tf;\n",
    "\n",
    "def euclidianDist(a, b):\n",
    "    x_z = (tf.expand_dims(a,0) - tf.expand_dims(b,1))\n",
    "    return tf.reduce_sum(tf.multiply(x_z, x_z), 2)\n",
    "\n",
    "# Alternative Solution\n",
    "#def distanceFunc(X, Z):\n",
    "#    return tf.reduce_sum((tf.expand_dims(X, 2) - tf.expand_dims(tf.transpose(Z), 0))**2, 1)\n",
    "\n",
    "sess = tf.InteractiveSession()\n",
    "init = tf.global_variables_initializer()\n",
    "sess.run(init)\n",
    "\n",
    "a = np.array([[0,0],[0,1],[0,2]])\n",
    "b = np.array([[1,0],[1,1],[1,2]])\n",
    "print('D_euc = ')\n",
    "print(a)\n",
    "print(b)\n",
    "print(sess.run(euclidianDist(a,b)))"
   ]
  },
  {
   "cell_type": "markdown",
   "metadata": {},
   "source": [
    "2. Making Predictions for Regression [4 points]\n",
    "============\n"
   ]
  },
  {
   "cell_type": "code",
   "execution_count": 257,
   "metadata": {},
   "outputs": [
    {
     "ename": "SyntaxError",
     "evalue": "invalid character in identifier (<ipython-input-257-f7585b2570d9>, line 50)",
     "output_type": "error",
     "traceback": [
      "\u001b[0;36m  File \u001b[0;32m\"<ipython-input-257-f7585b2570d9>\"\u001b[0;36m, line \u001b[0;32m50\u001b[0m\n\u001b[0;31m    trainX = tf.placeholder(tf.float32, [None, 1], name=’input_x’)\u001b[0m\n\u001b[0m                                                                ^\u001b[0m\n\u001b[0;31mSyntaxError\u001b[0m\u001b[0;31m:\u001b[0m invalid character in identifier\n"
     ]
    }
   ],
   "source": [
    "# Import data\n",
    "import numpy as np\n",
    "import matplotlib.pyplot as plt\n",
    "import plotly.plotly as py\n",
    "\n",
    "k = 2\n",
    "\n",
    "np.random.seed(521)\n",
    "Data = np.linspace(1.0 , 10.0 , num =100) [:, np. newaxis]\n",
    "Target = np.sin( Data ) + 0.1 * np.power( Data , 2) \\\n",
    "         + 0.5 * np.random.randn(100 , 1)\n",
    "randIdx = np.arange(100)\n",
    "np.random.shuffle(randIdx)\n",
    "trainData, trainTarget  = Data[randIdx[:80]], Target[randIdx[:80]]\n",
    "validData, validTarget = Data[randIdx[80:90]], Target[randIdx[80:90]]\n",
    "testData, testTarget = Data[randIdx[90:100]], Target[randIdx[90:100]]\n",
    "\n",
    "# Draw the plot\n",
    "line = plt.figure()\n",
    "plt.title('k-NN regression on data1D, k = ' + str(k))\n",
    "plt.plot(trainData, trainTarget, \"x\")\n",
    "plt.plot(validData, validTarget, \"x\")\n",
    "plt.plot(testData, testTarget, \"x\")\n",
    "plt.legend(['Train', 'Valid', 'Test'])\n",
    "plt.show()\n",
    "\n",
    "# def pickKNearest(Distance, K=50):\n",
    "#      numTrainData = tf.shape(Distance)[1]\n",
    "#      dist_k, ind_k = tf.nn.top_k(-Distance, k = K)\n",
    "#      R = tf.reduce_sum(tf.to_float(tf.equal(tf.expand_dims(ind_k,2),\n",
    "#                               tf.reshape(tf.range(numTrainData), [1,1,-1]))),1)\n",
    "#      return R/tf.to_float(K)\n",
    "\n",
    "def pickKNearestNeighbours(DistMatrix, k):\n",
    "    length = tf.shape(DistMatrix)[0]\n",
    "    \n",
    "    values, indices = tf.nn.top_k(-DistMatrix, k)\n",
    "    range = tf.range(length)\n",
    "    \n",
    "    rangeblock = tf.expand_dims(tf.expand_dims(range, 0),0)\n",
    "    indexblock = tf.expand_dims(indices, 2)\n",
    "    \n",
    "    truth_matrix = tf.reduce_sum(tf.to_float(tf.equal(rangeblock, indexblock)),1)\n",
    "\n",
    "    return tf.scalar_mul(1/k,truth_matrix)\n",
    "\n",
    "def predKNN(R, trainY):\n",
    "    return tf.matmul(R, trainY)\n",
    "    \n",
    "## begin building graph\n",
    "trainX = tf.placeholder(tf.float32, [None, 1], name=’input_x’)\n",
    "trainY = tf.placeholder(tf.float32, [None, 1], name=’input_y’)\n",
    "newX = tf.placeholder(tf.float32, [None, 1], name=’new_x’)\n",
    "newY = tf.placeholder(tf.float32, [None, 1], name=’new_y’)\n",
    "K = tf.placeholder(\"int32\", name=’K’)\n",
    "predY = predKNN(pickKNearest(distanceFunc(newX, trainX), K = K), trainY) MSE = tf.reduce_mean(tf.reduce_sum((predY - newY)**2, 1))\n",
    "sess = tf.InteractiveSession()\n",
    "## end building graph\n",
    "X = np.linspace(0.0,11.0,num=1000)[:,np.newaxis] # for plotting import matplotlib.pyp # Find the nearest k neighbours:\n",
    "kvec = [1,3,5,50]\n",
    "mse_valid_list = []\n",
    "mse_test_list = []\n",
    "for kc in kvec:\n",
    "    mse_valid = sess.run(MSE, feed_dict={trainX:trainData, trainY:trainTarget,\n",
    "                                      newX:validData, newY:validTarget, K:kc})\n",
    "    mse_test = sess.run(MSE, feed_dict={trainX:trainData, trainY:trainTarget,\n",
    "                                      newX:testData, newY:testTarget, K:kc})\n",
    "    mse_valid_list.append(mse_valid)\n",
    "    mse_test_list.append(mse_test)\n",
    "    print(\"K=%d\\t validation MSE: %f, test MSE: %f\"%(kc,mse_valid,mse_test))\n",
    "    yp = sess.run(predY, feed_dict={trainX:trainData, trainY:trainTarget,\n",
    "                                      newX:X, K:kc})\n",
    "    plt.figure(kc+1)\n",
    "    plt.plot(trainData,trainTarget,’.’)\n",
    "    plt.plot(X,yp,’-’)\n",
    "    plt.title(\"k-NN regression on datat1D, k=%d\"%kc)\n",
    "    plt.show()\n",
    "k_best = kvec[np.argmin(mse_valid_list)]\n",
    "print(\"best K using validation set is K=%d\"%(k_best))\n",
    "\n",
    "print(sess.run(pickKNearestNeighbours(euclidianDist(a,b),3)))"
   ]
  },
  {
   "cell_type": "code",
   "execution_count": null,
   "metadata": {
    "collapsed": true
   },
   "outputs": [],
   "source": []
  }
 ],
 "metadata": {
  "kernelspec": {
   "display_name": "Python 3",
   "language": "python",
   "name": "python3"
  },
  "language_info": {
   "codemirror_mode": {
    "name": "ipython",
    "version": 3
   },
   "file_extension": ".py",
   "mimetype": "text/x-python",
   "name": "python",
   "nbconvert_exporter": "python",
   "pygments_lexer": "ipython3",
   "version": "3.5.4"
  }
 },
 "nbformat": 4,
 "nbformat_minor": 2
}
