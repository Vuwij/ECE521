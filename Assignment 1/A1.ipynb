{
 "cells": [
  {
   "cell_type": "markdown",
   "metadata": {
    "collapsed": true
   },
   "source": [
    "1. Euclidian distance function [4 points]\n",
    "============\n",
    "The squared Euclidean distance between two D-dimensional vectors x and z is given by\n",
    "$\\newcommand{\\norm}[1]{\\left\\lVert#1\\right\\rVert}$\n",
    "\n",
    "$\\norm{\\mathbf{x} - \\mathbf{z}}_{2}^{2} = (\\mathbf{x} - \\mathbf{z})^\\top(\\mathbf{x} - \\mathbf{z}) = \\sigma_{d=1}^{D}(X_d - Z_d)^2$\n",
    "\n",
    "Assume we have two groups of D-dimensional data points represented respectively by a $N_1 \\times D$ matrix..."
   ]
  },
  {
   "cell_type": "code",
   "execution_count": 49,
   "metadata": {},
   "outputs": [
    {
     "name": "stdout",
     "output_type": "stream",
     "text": [
      "[[1]\n",
      " [2]\n",
      " [3]\n",
      " [4]\n",
      " [1]\n",
      " [2]\n",
      " [3]\n",
      " [4]]\n"
     ]
    }
   ],
   "source": [
    "import tensorflow as tf;\n",
    "\n",
    "    \n",
    "a = tf.constant([1,2,3,4], name='a')\n",
    "b = tf.constant([1,2,3,4], name='b')\n",
    "\n",
    "D_euc = tf.tile(tf.expand_dims(a,1), [1,]2)\n",
    "\n",
    "sess = tf.InteractiveSession()\n",
    "init = tf.global_variables_initializer()\n",
    "sess.run(init)\n",
    "\n",
    "print(sess.run(D_euc))"
   ]
  },
  {
   "cell_type": "code",
   "execution_count": null,
   "metadata": {
    "collapsed": true
   },
   "outputs": [],
   "source": []
  }
 ],
 "metadata": {
  "kernelspec": {
   "display_name": "Python 3",
   "language": "python",
   "name": "python3"
  },
  "language_info": {
   "codemirror_mode": {
    "name": "ipython",
    "version": 3
   },
   "file_extension": ".py",
   "mimetype": "text/x-python",
   "name": "python",
   "nbconvert_exporter": "python",
   "pygments_lexer": "ipython3",
   "version": "3.5.4"
  }
 },
 "nbformat": 4,
 "nbformat_minor": 2
}
